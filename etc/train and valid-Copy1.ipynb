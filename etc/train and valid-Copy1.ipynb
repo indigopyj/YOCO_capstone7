{
 "cells": [
  {
   "cell_type": "code",
   "execution_count": 3,
   "metadata": {},
   "outputs": [],
   "source": [
    "import glob\n",
    "import os\n",
    "import shutil\n",
    "\n",
    "current_dir = '/home/capstone7/new_darkflow/darkflow/aug_Data2/yolo_imgxml'# PATH TO IMAGE DIRECTORY\n",
    "test_dir = '/home/capstone7/new_darkflow/darkflow/aug_Data2/valid'\n",
    "train_dir = '/home/capstone7/new_darkflow/darkflow/aug_Data2/train'\n",
    "# Percentage of images to be used for the valid set\n",
    "percentage_test = 10;\n",
    "# Create train.txt and valid.txt\n",
    "# file_train = open('train.txt', 'w')  \n",
    "# file_test = open('valid.txt', 'w')\n",
    "# Populate train.txt and valid.txt\n",
    "counter = 1  \n",
    "index_test = round(100 / percentage_test)  \n",
    "for file in glob.iglob(os.path.join(current_dir, '*.jpg')):  \n",
    "    title, ext = os.path.splitext(os.path.basename(file))\n",
    "    \n",
    "    if counter == index_test:\n",
    "        counter = 1\n",
    "        img_name = current_dir + \"/\" + title + '.jpg'\n",
    "        txt_name = current_dir + \"/\" + title + '.xml'\n",
    "        new_img_name = test_dir + '/img/'+title+'.jpg'\n",
    "        new_txt_name = test_dir + '/xml/'+title+'.xml'\n",
    "        shutil.copy(img_name, new_img_name)\n",
    "        shutil.copy(txt_name, new_txt_name)\n",
    "\n",
    "        #file_test.write(current_dir + \"/\" + title + '.jpg' + \"\\n\")\n",
    "    else:\n",
    "        #file_train.write(current_dir + \"/\" + title + '.jpg' + \"\\n\")\n",
    "        img_name = current_dir + \"/\" + title + '.jpg'\n",
    "        txt_name = current_dir + \"/\" + title + '.xml'\n",
    "        new_img_name = train_dir + '/img/'+title+'.jpg'\n",
    "        new_txt_name = train_dir + '/xml/'+title+'.xml'\n",
    "        shutil.copy(img_name, new_img_name)\n",
    "        shutil.copy(txt_name, new_txt_name)\n",
    "        counter = counter + 1"
   ]
  },
  {
   "cell_type": "code",
   "execution_count": null,
   "metadata": {},
   "outputs": [],
   "source": []
  }
 ],
 "metadata": {
  "kernelspec": {
   "display_name": "Python 3",
   "language": "python",
   "name": "python3"
  },
  "language_info": {
   "codemirror_mode": {
    "name": "ipython",
    "version": 3
   },
   "file_extension": ".py",
   "mimetype": "text/x-python",
   "name": "python",
   "nbconvert_exporter": "python",
   "pygments_lexer": "ipython3",
   "version": "3.7.4"
  }
 },
 "nbformat": 4,
 "nbformat_minor": 2
}
